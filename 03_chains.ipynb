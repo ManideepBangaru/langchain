{
 "cells": [
  {
   "cell_type": "markdown",
   "id": "52824b89-532a-4e54-87e9-1410813cd39e",
   "metadata": {},
   "source": [
    "# Chains in LangChain\n",
    "\n",
    "## Outline\n",
    "\n",
    "* LLMChain\n",
    "* Sequential Chains\n",
    "  * SimpleSequentialChain\n",
    "  * SequentialChain\n",
    "* Router Chain"
   ]
  },
  {
   "cell_type": "code",
   "execution_count": 1,
   "id": "5d747833",
   "metadata": {},
   "outputs": [],
   "source": [
    "import os\n",
    "from IPython.display import Markdown\n",
    "\n",
    "import warnings\n",
    "warnings.filterwarnings('ignore')"
   ]
  },
  {
   "cell_type": "code",
   "execution_count": 2,
   "id": "4336d784-65c2-4a11-8489-b445b1fad177",
   "metadata": {
    "height": 235
   },
   "outputs": [],
   "source": [
    "# # account for deprecation of LLM model\n",
    "# import datetime\n",
    "# # Get the current date\n",
    "# current_date = datetime.datetime.now().date()\n",
    "\n",
    "# # Define the date after which the model should be set to \"gpt-3.5-turbo\"\n",
    "# target_date = datetime.date(2024, 6, 12)\n",
    "\n",
    "# # Set the model variable based on the current date\n",
    "# if current_date > target_date:\n",
    "#     llm_model = \"gpt-3.5-turbo\"\n",
    "# else:\n",
    "#     llm_model = \"gpt-3.5-turbo-0301\""
   ]
  },
  {
   "cell_type": "code",
   "execution_count": 3,
   "id": "b84e441b",
   "metadata": {
    "height": 31,
    "tags": []
   },
   "outputs": [],
   "source": [
    "#!pip install pandas"
   ]
  },
  {
   "cell_type": "code",
   "execution_count": 4,
   "id": "fa31d419",
   "metadata": {},
   "outputs": [],
   "source": [
    "llm_model = 'gpt-4o'"
   ]
  },
  {
   "cell_type": "code",
   "execution_count": 5,
   "id": "974acf8e-8f88-42de-88f8-40a82cb58e8b",
   "metadata": {
    "height": 48,
    "tags": []
   },
   "outputs": [],
   "source": [
    "import pandas as pd\n",
    "df = pd.read_csv('Data.csv')"
   ]
  },
  {
   "cell_type": "code",
   "execution_count": 6,
   "id": "b7a09c35",
   "metadata": {
    "height": 31,
    "tags": []
   },
   "outputs": [
    {
     "data": {
      "text/html": [
       "<div>\n",
       "<style scoped>\n",
       "    .dataframe tbody tr th:only-of-type {\n",
       "        vertical-align: middle;\n",
       "    }\n",
       "\n",
       "    .dataframe tbody tr th {\n",
       "        vertical-align: top;\n",
       "    }\n",
       "\n",
       "    .dataframe thead th {\n",
       "        text-align: right;\n",
       "    }\n",
       "</style>\n",
       "<table border=\"1\" class=\"dataframe\">\n",
       "  <thead>\n",
       "    <tr style=\"text-align: right;\">\n",
       "      <th></th>\n",
       "      <th>Product</th>\n",
       "      <th>Review</th>\n",
       "    </tr>\n",
       "  </thead>\n",
       "  <tbody>\n",
       "    <tr>\n",
       "      <th>0</th>\n",
       "      <td>Queen Size Sheet set</td>\n",
       "      <td>I ordered a king size set. My only criticism w...</td>\n",
       "    </tr>\n",
       "    <tr>\n",
       "      <th>1</th>\n",
       "      <td>Waterproof Phone Pouch</td>\n",
       "      <td>I loved the waterproof sac, although the openi...</td>\n",
       "    </tr>\n",
       "    <tr>\n",
       "      <th>2</th>\n",
       "      <td>Luxury Air Mattress</td>\n",
       "      <td>This mattress had a small hole in the top of i...</td>\n",
       "    </tr>\n",
       "    <tr>\n",
       "      <th>3</th>\n",
       "      <td>Pillows Insert</td>\n",
       "      <td>This is the best throw pillow fillers on Amazo...</td>\n",
       "    </tr>\n",
       "    <tr>\n",
       "      <th>4</th>\n",
       "      <td>Milk Frother Handheld</td>\n",
       "      <td>I loved this product. But they only seem to la...</td>\n",
       "    </tr>\n",
       "  </tbody>\n",
       "</table>\n",
       "</div>"
      ],
      "text/plain": [
       "                  Product                                             Review\n",
       "0    Queen Size Sheet set  I ordered a king size set. My only criticism w...\n",
       "1  Waterproof Phone Pouch  I loved the waterproof sac, although the openi...\n",
       "2     Luxury Air Mattress  This mattress had a small hole in the top of i...\n",
       "3          Pillows Insert  This is the best throw pillow fillers on Amazo...\n",
       "4   Milk Frother Handheld  I loved this product. But they only seem to la..."
      ]
     },
     "execution_count": 6,
     "metadata": {},
     "output_type": "execute_result"
    }
   ],
   "source": [
    "df.head()"
   ]
  },
  {
   "cell_type": "markdown",
   "id": "b940ce7c",
   "metadata": {},
   "source": [
    "## LLMChain"
   ]
  },
  {
   "cell_type": "code",
   "execution_count": 7,
   "id": "e92dff22",
   "metadata": {
    "height": 65,
    "tags": []
   },
   "outputs": [],
   "source": [
    "from langchain_openai import ChatOpenAI\n",
    "from langchain_core.output_parsers import StrOutputParser\n",
    "from langchain_core.prompts import ChatPromptTemplate"
   ]
  },
  {
   "cell_type": "code",
   "execution_count": 8,
   "id": "943237a7",
   "metadata": {
    "height": 31,
    "tags": []
   },
   "outputs": [],
   "source": [
    "llm = ChatOpenAI(model_name = 'gpt-4o',\n",
    "                 temperature=0.9)"
   ]
  },
  {
   "cell_type": "code",
   "execution_count": 9,
   "id": "cdcdb42d",
   "metadata": {
    "height": 82,
    "tags": []
   },
   "outputs": [],
   "source": [
    "prompt = ChatPromptTemplate.from_template(\n",
    "    \"What is the best name to describe a company that makes {product}?\"\n",
    "    )"
   ]
  },
  {
   "cell_type": "code",
   "execution_count": 10,
   "id": "d7abc20b",
   "metadata": {
    "height": 31,
    "tags": []
   },
   "outputs": [],
   "source": [
    "# create a sequence with pipe operator\n",
    "chain = prompt | llm | StrOutputParser()"
   ]
  },
  {
   "cell_type": "code",
   "execution_count": 11,
   "id": "0b94ea3b",
   "metadata": {},
   "outputs": [
    {
     "data": {
      "text/markdown": [
       "Choosing the best name for a company that makes Queen Size pillows depends on several factors such as your brand's identity, target audience, and overall vision. Here are a few ideas to get you started:\n",
       "\n",
       "1. **RoyalRest Pillows**\n",
       "2. **Queen's Comfort**\n",
       "3. **MajesticSleep Pillows**\n",
       "4. **RegalDream Pillows**\n",
       "5. **CrownLuxury Pillows**\n",
       "6. **QueenQuilt Pillows**\n",
       "7. **NobleNights Pillows**\n",
       "8. **RoyalSlumber Pillows**\n",
       "9. **Queen's Haven Pillows**\n",
       "10. **SupremeSlumber Pillows**\n",
       "\n",
       "Remember to check the availability of the name for domain registration and ensure it is not already in use by another business."
      ],
      "text/plain": [
       "<IPython.core.display.Markdown object>"
      ]
     },
     "execution_count": 11,
     "metadata": {},
     "output_type": "execute_result"
    }
   ],
   "source": [
    "# Run the chain\n",
    "Markdown(chain.invoke({\"product\" : \"Queen Size pillow\"}))"
   ]
  },
  {
   "cell_type": "markdown",
   "id": "69b03469",
   "metadata": {},
   "source": [
    "## SimpleSequentialChain"
   ]
  },
  {
   "cell_type": "code",
   "execution_count": 12,
   "id": "febee243",
   "metadata": {
    "height": 31,
    "tags": []
   },
   "outputs": [],
   "source": [
    "from langchain.callbacks.tracers import ConsoleCallbackHandler"
   ]
  },
  {
   "cell_type": "code",
   "execution_count": 13,
   "id": "2f31aa8a",
   "metadata": {
    "height": 184,
    "tags": []
   },
   "outputs": [],
   "source": [
    "llm = ChatOpenAI(model_name = 'gpt-4o',\n",
    "                 temperature = 0.9)"
   ]
  },
  {
   "cell_type": "code",
   "execution_count": 14,
   "id": "1e79f436",
   "metadata": {},
   "outputs": [],
   "source": [
    "# prompt template 1\n",
    "first_prompt = ChatPromptTemplate.from_template(\n",
    "    \"What is the best name to describe a company that makes {product}?\"\n",
    "    )\n",
    "\n",
    "second_prompt = ChatPromptTemplate.from_template(\n",
    "    \"Convert only company name into german : {company_name}, choose any one and use your creativity to describe\"\n",
    "    )"
   ]
  },
  {
   "cell_type": "code",
   "execution_count": 15,
   "id": "1227581a",
   "metadata": {},
   "outputs": [],
   "source": [
    "overall_simple_chain = (\n",
    "    first_prompt | llm | StrOutputParser() | second_prompt | llm | StrOutputParser()\n",
    ")"
   ]
  },
  {
   "cell_type": "code",
   "execution_count": 16,
   "id": "6d8388cc",
   "metadata": {},
   "outputs": [],
   "source": [
    "console_handler = ConsoleCallbackHandler()"
   ]
  },
  {
   "cell_type": "code",
   "execution_count": 17,
   "id": "c4363bde",
   "metadata": {},
   "outputs": [
    {
     "data": {
      "text/markdown": [
       "Let's go with **CloudRest** and convert it to German as **WolkenRuhe**.\n",
       "\n",
       "**WolkenRuhe** – A Symphony of Comfort in Every Slumber\n",
       "\n",
       "When you lay your head down at night, you deserve nothing but the very best in comfort and serenity. At **WolkenRuhe**, we transform every sleeping moment into a rejuvenating escape. Our name, directly translating to \"Cloud Rest,\" embodies the essence of weightlessness and supreme relaxation. Imagine sinking into a pillow so soft and supportive, it feels like you're floating on a cloud. \n",
       "\n",
       "**WolkenRuhe** isn’t just about pillows; it's about creating the ultimate sleep experience. We handcraft each pillow using only the finest materials, ensuring that each product stands up to our rigorous standards of quality. Every stitch, every fiber, and every cushion is designed with your deepest comfort in mind.\n",
       "\n",
       "Our belief is simple: a well-rested you is a happier, healthier you. That’s why we’ve dedicated ourselves to innovating the perfect blend of softness and support. Whether you’re a back, side, or stomach sleeper, **WolkenRuhe** has the ideal pillow to cradle you through the night.\n",
       "\n",
       "Join us in our mission to redefine sleep. Experience the luxury of floating on a cloud, night after night, with **WolkenRuhe**. Because when it comes to your rest, only the best will do."
      ],
      "text/plain": [
       "<IPython.core.display.Markdown object>"
      ]
     },
     "execution_count": 17,
     "metadata": {},
     "output_type": "execute_result"
    }
   ],
   "source": [
    "Markdown(overall_simple_chain.invoke({\"product\" : \"pillows\"}))"
   ]
  },
  {
   "cell_type": "markdown",
   "id": "7b5ce18c",
   "metadata": {},
   "source": [
    "## SequentialChain"
   ]
  },
  {
   "cell_type": "code",
   "execution_count": 18,
   "id": "3c96dc92",
   "metadata": {},
   "outputs": [],
   "source": [
    "ac_review = \"\"\"\n",
    "If you are looking for a complete package, then look nowhere other than Daikin.\n",
    "\n",
    "I purchased the AC 1.5 mnths ago, and until now I am impressed with what it has to offer. Installation went super smooth. The installation guys came within the same day. The installation process started, and it was done in 3 hours max.\n",
    "Also, for those people who are saying that they are charging money even when installation is free, you guys have no idea about how AC installation is done.The extra charges can vary heavily depending on the amount of material needed including pipe, tape and so on. In my case, it cost me 5000INR, and I am super happy with it.The build quality of the AC is excellent. The internal unit looks sleek and modern. The AC functions as advertised. It cools very nicely.\n",
    "\n",
    "Overall Value\n",
    "The overall value of the AC is just excellent. It is affordable and enables you to enjoy with minimal electricity bills.\n",
    "\"\"\""
   ]
  },
  {
   "cell_type": "code",
   "execution_count": 19,
   "id": "016187ac",
   "metadata": {
    "height": 218,
    "tags": []
   },
   "outputs": [],
   "source": [
    "llm = ChatOpenAI(model=llm_model,\n",
    "                 temperature=0.9)"
   ]
  },
  {
   "cell_type": "code",
   "execution_count": 21,
   "id": "6003ae96",
   "metadata": {},
   "outputs": [],
   "source": [
    "# prompt template 1: translate to english\n",
    "first_prompt = ChatPromptTemplate.from_template(\n",
    "    \"Translate the following review to english:\"\n",
    "    \"\\n\\n{Review}\"\n",
    ")\n",
    "\n",
    "# prompt template 2 : summarize\n",
    "second_prompt = ChatPromptTemplate.from_template(\n",
    "    \"Can you summarize the following review in 1 sentence:\"\n",
    "    \"\\n\\n{English_Review}\"\n",
    ")\n",
    "\n",
    "# prompt template 3: translate to english\n",
    "third_prompt = ChatPromptTemplate.from_template(\n",
    "    \"What language is the following review:\\n\\n{Summary}\"\n",
    ")\n",
    "\n",
    "# prompt template 4: follow up message\n",
    "fourth_prompt = ChatPromptTemplate.from_template(\n",
    "    \"Write a follow up response to the following \"\n",
    "    \"summary in the specified language:\"\n",
    "    \"\\n\\nSummary: {Translated_Review}\"\n",
    "    \"\\n\\nLanguage: {mylanguage}\"\n",
    ")"
   ]
  },
  {
   "cell_type": "code",
   "execution_count": 23,
   "id": "de9463e7",
   "metadata": {},
   "outputs": [],
   "source": [
    "from langchain_core.runnables import RunnableMap"
   ]
  },
  {
   "cell_type": "code",
   "execution_count": 24,
   "id": "89603117",
   "metadata": {
    "height": 150,
    "tags": []
   },
   "outputs": [],
   "source": [
    "# overall_chain: input= Review \n",
    "# and output= English_Review,summary, followup_message\n",
    "\n",
    "runnable1 = RunnableMap({\n",
    "    \"English_Review\" : first_prompt | llm | StrOutputParser(),\n",
    "    \"mylanguage\": lambda x: x[\"mylanguage\"]\n",
    "    })\n",
    "runnable2 = RunnableMap({\n",
    "    \"Summary\" : second_prompt | llm | StrOutputParser(),\n",
    "    \"mylanguage\": lambda x: x[\"mylanguage\"]\n",
    "    })\n",
    "runnable3 = RunnableMap({\n",
    "    \"Translated_Review\" : third_prompt | llm | StrOutputParser(),\n",
    "    \"mylanguage\": lambda x: x[\"mylanguage\"]\n",
    "                         })\n",
    "runnable4 = RunnableMap({\n",
    "    \"Final_review\" : fourth_prompt | llm | StrOutputParser(),\n",
    "    })"
   ]
  },
  {
   "cell_type": "code",
   "execution_count": 25,
   "id": "a33e8998",
   "metadata": {},
   "outputs": [],
   "source": [
    "seq = runnable1 | runnable2 | runnable3 | runnable4"
   ]
  },
  {
   "cell_type": "code",
   "execution_count": 26,
   "id": "7c897ab4",
   "metadata": {},
   "outputs": [],
   "source": [
    "input_data = {\"Review\" : ac_review, \"mylanguage\" : \"hindi\"}"
   ]
  },
  {
   "cell_type": "code",
   "execution_count": 27,
   "id": "4ebdc4c4",
   "metadata": {},
   "outputs": [
    {
     "name": "stdout",
     "output_type": "stream",
     "text": [
      "\u001b[32;1m\u001b[1;3m[chain/start]\u001b[0m \u001b[1m[chain:RunnableSequence] Entering Chain run with input:\n",
      "\u001b[0m{\n",
      "  \"Review\": \"\\nIf you are looking for a complete package, then look nowhere other than Daikin.\\n\\nI purchased the AC 1.5 mnths ago, and until now I am impressed with what it has to offer. Installation went super smooth. The installation guys came within the same day. The installation process started, and it was done in 3 hours max.\\nAlso, for those people who are saying that they are charging money even when installation is free, you guys have no idea about how AC installation is done.The extra charges can vary heavily depending on the amount of material needed including pipe, tape and so on. In my case, it cost me 5000INR, and I am super happy with it.The build quality of the AC is excellent. The internal unit looks sleek and modern. The AC functions as advertised. It cools very nicely.\\n\\nOverall Value\\nThe overall value of the AC is just excellent. It is affordable and enables you to enjoy with minimal electricity bills.\\n\",\n",
      "  \"mylanguage\": \"hindi\"\n",
      "}\n",
      "\u001b[32;1m\u001b[1;3m[chain/start]\u001b[0m \u001b[1m[chain:RunnableSequence > chain:RunnableParallel<English_Review,mylanguage>] Entering Chain run with input:\n",
      "\u001b[0m{\n",
      "  \"Review\": \"\\nIf you are looking for a complete package, then look nowhere other than Daikin.\\n\\nI purchased the AC 1.5 mnths ago, and until now I am impressed with what it has to offer. Installation went super smooth. The installation guys came within the same day. The installation process started, and it was done in 3 hours max.\\nAlso, for those people who are saying that they are charging money even when installation is free, you guys have no idea about how AC installation is done.The extra charges can vary heavily depending on the amount of material needed including pipe, tape and so on. In my case, it cost me 5000INR, and I am super happy with it.The build quality of the AC is excellent. The internal unit looks sleek and modern. The AC functions as advertised. It cools very nicely.\\n\\nOverall Value\\nThe overall value of the AC is just excellent. It is affordable and enables you to enjoy with minimal electricity bills.\\n\",\n",
      "  \"mylanguage\": \"hindi\"\n",
      "}\n",
      "\u001b[32;1m\u001b[1;3m[chain/start]\u001b[0m \u001b[1m[chain:RunnableSequence > chain:RunnableParallel<English_Review,mylanguage> > chain:RunnableSequence] Entering Chain run with input:\n",
      "\u001b[0m{\n",
      "  \"Review\": \"\\nIf you are looking for a complete package, then look nowhere other than Daikin.\\n\\nI purchased the AC 1.5 mnths ago, and until now I am impressed with what it has to offer. Installation went super smooth. The installation guys came within the same day. The installation process started, and it was done in 3 hours max.\\nAlso, for those people who are saying that they are charging money even when installation is free, you guys have no idea about how AC installation is done.The extra charges can vary heavily depending on the amount of material needed including pipe, tape and so on. In my case, it cost me 5000INR, and I am super happy with it.The build quality of the AC is excellent. The internal unit looks sleek and modern. The AC functions as advertised. It cools very nicely.\\n\\nOverall Value\\nThe overall value of the AC is just excellent. It is affordable and enables you to enjoy with minimal electricity bills.\\n\",\n",
      "  \"mylanguage\": \"hindi\"\n",
      "}\n",
      "\u001b[32;1m\u001b[1;3m[chain/start]\u001b[0m \u001b[1m[chain:RunnableSequence > chain:RunnableParallel<English_Review,mylanguage> > chain:RunnableSequence > prompt:ChatPromptTemplate] Entering Prompt run with input:\n",
      "\u001b[0m{\n",
      "  \"Review\": \"\\nIf you are looking for a complete package, then look nowhere other than Daikin.\\n\\nI purchased the AC 1.5 mnths ago, and until now I am impressed with what it has to offer. Installation went super smooth. The installation guys came within the same day. The installation process started, and it was done in 3 hours max.\\nAlso, for those people who are saying that they are charging money even when installation is free, you guys have no idea about how AC installation is done.The extra charges can vary heavily depending on the amount of material needed including pipe, tape and so on. In my case, it cost me 5000INR, and I am super happy with it.The build quality of the AC is excellent. The internal unit looks sleek and modern. The AC functions as advertised. It cools very nicely.\\n\\nOverall Value\\nThe overall value of the AC is just excellent. It is affordable and enables you to enjoy with minimal electricity bills.\\n\",\n",
      "  \"mylanguage\": \"hindi\"\n",
      "}\n",
      "\u001b[36;1m\u001b[1;3m[chain/end]\u001b[0m \u001b[1m[chain:RunnableSequence > chain:RunnableParallel<English_Review,mylanguage> > chain:RunnableSequence > prompt:ChatPromptTemplate] [1ms] Exiting Prompt run with output:\n",
      "\u001b[0m[outputs]\n",
      "\u001b[32;1m\u001b[1;3m[llm/start]\u001b[0m \u001b[1m[chain:RunnableSequence > chain:RunnableParallel<English_Review,mylanguage> > chain:RunnableSequence > llm:ChatOpenAI] Entering LLM run with input:\n",
      "\u001b[0m{\n",
      "  \"prompts\": [\n",
      "    \"Human: Translate the following review to english:\\n\\n\\nIf you are looking for a complete package, then look nowhere other than Daikin.\\n\\nI purchased the AC 1.5 mnths ago, and until now I am impressed with what it has to offer. Installation went super smooth. The installation guys came within the same day. The installation process started, and it was done in 3 hours max.\\nAlso, for those people who are saying that they are charging money even when installation is free, you guys have no idea about how AC installation is done.The extra charges can vary heavily depending on the amount of material needed including pipe, tape and so on. In my case, it cost me 5000INR, and I am super happy with it.The build quality of the AC is excellent. The internal unit looks sleek and modern. The AC functions as advertised. It cools very nicely.\\n\\nOverall Value\\nThe overall value of the AC is just excellent. It is affordable and enables you to enjoy with minimal electricity bills.\"\n",
      "  ]\n",
      "}\n",
      "\u001b[32;1m\u001b[1;3m[chain/start]\u001b[0m \u001b[1m[chain:RunnableSequence > chain:RunnableParallel<English_Review,mylanguage> > chain:RunnableLambda] Entering Chain run with input:\n",
      "\u001b[0m{\n",
      "  \"Review\": \"\\nIf you are looking for a complete package, then look nowhere other than Daikin.\\n\\nI purchased the AC 1.5 mnths ago, and until now I am impressed with what it has to offer. Installation went super smooth. The installation guys came within the same day. The installation process started, and it was done in 3 hours max.\\nAlso, for those people who are saying that they are charging money even when installation is free, you guys have no idea about how AC installation is done.The extra charges can vary heavily depending on the amount of material needed including pipe, tape and so on. In my case, it cost me 5000INR, and I am super happy with it.The build quality of the AC is excellent. The internal unit looks sleek and modern. The AC functions as advertised. It cools very nicely.\\n\\nOverall Value\\nThe overall value of the AC is just excellent. It is affordable and enables you to enjoy with minimal electricity bills.\\n\",\n",
      "  \"mylanguage\": \"hindi\"\n",
      "}\n",
      "\u001b[36;1m\u001b[1;3m[chain/end]\u001b[0m \u001b[1m[chain:RunnableSequence > chain:RunnableParallel<English_Review,mylanguage> > chain:RunnableLambda] [1ms] Exiting Chain run with output:\n",
      "\u001b[0m{\n",
      "  \"output\": \"hindi\"\n",
      "}\n",
      "\u001b[36;1m\u001b[1;3m[llm/end]\u001b[0m \u001b[1m[chain:RunnableSequence > chain:RunnableParallel<English_Review,mylanguage> > chain:RunnableSequence > llm:ChatOpenAI] [2.61s] Exiting LLM run with output:\n",
      "\u001b[0m{\n",
      "  \"generations\": [\n",
      "    [\n",
      "      {\n",
      "        \"text\": \"If you are looking for a complete package, then look no further than Daikin.\\n\\nI purchased the AC 1.5 months ago, and until now I am impressed with what it has to offer. Installation went super smoothly. The installation guys came on the same day. The installation process started, and it was done in 3 hours max.\\n\\nAlso, for those people who are saying that they are charging money even when installation is free, you have no idea about how AC installation is done. The extra charges can vary heavily depending on the amount of material needed, including pipe, tape, and so on. In my case, it cost me 5000 INR, and I am super happy with it.\\n\\nThe build quality of the AC is excellent. The internal unit looks sleek and modern. The AC functions as advertised. It cools very nicely.\\n\\nOverall Value\\nThe overall value of the AC is just excellent. It is affordable and enables you to enjoy minimal electricity bills.\",\n",
      "        \"generation_info\": {\n",
      "          \"finish_reason\": \"stop\",\n",
      "          \"logprobs\": null\n",
      "        },\n",
      "        \"type\": \"ChatGeneration\",\n",
      "        \"message\": {\n",
      "          \"lc\": 1,\n",
      "          \"type\": \"constructor\",\n",
      "          \"id\": [\n",
      "            \"langchain\",\n",
      "            \"schema\",\n",
      "            \"messages\",\n",
      "            \"AIMessage\"\n",
      "          ],\n",
      "          \"kwargs\": {\n",
      "            \"content\": \"If you are looking for a complete package, then look no further than Daikin.\\n\\nI purchased the AC 1.5 months ago, and until now I am impressed with what it has to offer. Installation went super smoothly. The installation guys came on the same day. The installation process started, and it was done in 3 hours max.\\n\\nAlso, for those people who are saying that they are charging money even when installation is free, you have no idea about how AC installation is done. The extra charges can vary heavily depending on the amount of material needed, including pipe, tape, and so on. In my case, it cost me 5000 INR, and I am super happy with it.\\n\\nThe build quality of the AC is excellent. The internal unit looks sleek and modern. The AC functions as advertised. It cools very nicely.\\n\\nOverall Value\\nThe overall value of the AC is just excellent. It is affordable and enables you to enjoy minimal electricity bills.\",\n",
      "            \"additional_kwargs\": {\n",
      "              \"refusal\": null\n",
      "            },\n",
      "            \"response_metadata\": {\n",
      "              \"token_usage\": {\n",
      "                \"completion_tokens\": 197,\n",
      "                \"prompt_tokens\": 211,\n",
      "                \"total_tokens\": 408,\n",
      "                \"completion_tokens_details\": {\n",
      "                  \"reasoning_tokens\": 0\n",
      "                }\n",
      "              },\n",
      "              \"model_name\": \"gpt-4o-2024-05-13\",\n",
      "              \"system_fingerprint\": \"fp_5796ac6771\",\n",
      "              \"finish_reason\": \"stop\",\n",
      "              \"logprobs\": null\n",
      "            },\n",
      "            \"type\": \"ai\",\n",
      "            \"id\": \"run-0763203b-0565-4295-8a04-8e0ab95cff09-0\",\n",
      "            \"usage_metadata\": {\n",
      "              \"input_tokens\": 211,\n",
      "              \"output_tokens\": 197,\n",
      "              \"total_tokens\": 408\n",
      "            },\n",
      "            \"tool_calls\": [],\n",
      "            \"invalid_tool_calls\": []\n",
      "          }\n",
      "        }\n",
      "      }\n",
      "    ]\n",
      "  ],\n",
      "  \"llm_output\": {\n",
      "    \"token_usage\": {\n",
      "      \"completion_tokens\": 197,\n",
      "      \"prompt_tokens\": 211,\n",
      "      \"total_tokens\": 408,\n",
      "      \"completion_tokens_details\": {\n",
      "        \"reasoning_tokens\": 0\n",
      "      }\n",
      "    },\n",
      "    \"model_name\": \"gpt-4o-2024-05-13\",\n",
      "    \"system_fingerprint\": \"fp_5796ac6771\"\n",
      "  },\n",
      "  \"run\": null\n",
      "}\n",
      "\u001b[32;1m\u001b[1;3m[chain/start]\u001b[0m \u001b[1m[chain:RunnableSequence > chain:RunnableParallel<English_Review,mylanguage> > chain:RunnableSequence > parser:StrOutputParser] Entering Parser run with input:\n",
      "\u001b[0m[inputs]\n",
      "\u001b[36;1m\u001b[1;3m[chain/end]\u001b[0m \u001b[1m[chain:RunnableSequence > chain:RunnableParallel<English_Review,mylanguage> > chain:RunnableSequence > parser:StrOutputParser] [1ms] Exiting Parser run with output:\n",
      "\u001b[0m{\n",
      "  \"output\": \"If you are looking for a complete package, then look no further than Daikin.\\n\\nI purchased the AC 1.5 months ago, and until now I am impressed with what it has to offer. Installation went super smoothly. The installation guys came on the same day. The installation process started, and it was done in 3 hours max.\\n\\nAlso, for those people who are saying that they are charging money even when installation is free, you have no idea about how AC installation is done. The extra charges can vary heavily depending on the amount of material needed, including pipe, tape, and so on. In my case, it cost me 5000 INR, and I am super happy with it.\\n\\nThe build quality of the AC is excellent. The internal unit looks sleek and modern. The AC functions as advertised. It cools very nicely.\\n\\nOverall Value\\nThe overall value of the AC is just excellent. It is affordable and enables you to enjoy minimal electricity bills.\"\n",
      "}\n",
      "\u001b[36;1m\u001b[1;3m[chain/end]\u001b[0m \u001b[1m[chain:RunnableSequence > chain:RunnableParallel<English_Review,mylanguage> > chain:RunnableSequence] [2.62s] Exiting Chain run with output:\n",
      "\u001b[0m{\n",
      "  \"output\": \"If you are looking for a complete package, then look no further than Daikin.\\n\\nI purchased the AC 1.5 months ago, and until now I am impressed with what it has to offer. Installation went super smoothly. The installation guys came on the same day. The installation process started, and it was done in 3 hours max.\\n\\nAlso, for those people who are saying that they are charging money even when installation is free, you have no idea about how AC installation is done. The extra charges can vary heavily depending on the amount of material needed, including pipe, tape, and so on. In my case, it cost me 5000 INR, and I am super happy with it.\\n\\nThe build quality of the AC is excellent. The internal unit looks sleek and modern. The AC functions as advertised. It cools very nicely.\\n\\nOverall Value\\nThe overall value of the AC is just excellent. It is affordable and enables you to enjoy minimal electricity bills.\"\n",
      "}\n",
      "\u001b[36;1m\u001b[1;3m[chain/end]\u001b[0m \u001b[1m[chain:RunnableSequence > chain:RunnableParallel<English_Review,mylanguage>] [2.62s] Exiting Chain run with output:\n",
      "\u001b[0m{\n",
      "  \"English_Review\": \"If you are looking for a complete package, then look no further than Daikin.\\n\\nI purchased the AC 1.5 months ago, and until now I am impressed with what it has to offer. Installation went super smoothly. The installation guys came on the same day. The installation process started, and it was done in 3 hours max.\\n\\nAlso, for those people who are saying that they are charging money even when installation is free, you have no idea about how AC installation is done. The extra charges can vary heavily depending on the amount of material needed, including pipe, tape, and so on. In my case, it cost me 5000 INR, and I am super happy with it.\\n\\nThe build quality of the AC is excellent. The internal unit looks sleek and modern. The AC functions as advertised. It cools very nicely.\\n\\nOverall Value\\nThe overall value of the AC is just excellent. It is affordable and enables you to enjoy minimal electricity bills.\",\n",
      "  \"mylanguage\": \"hindi\"\n",
      "}\n",
      "\u001b[32;1m\u001b[1;3m[chain/start]\u001b[0m \u001b[1m[chain:RunnableSequence > chain:RunnableParallel<Summary,mylanguage>] Entering Chain run with input:\n",
      "\u001b[0m{\n",
      "  \"English_Review\": \"If you are looking for a complete package, then look no further than Daikin.\\n\\nI purchased the AC 1.5 months ago, and until now I am impressed with what it has to offer. Installation went super smoothly. The installation guys came on the same day. The installation process started, and it was done in 3 hours max.\\n\\nAlso, for those people who are saying that they are charging money even when installation is free, you have no idea about how AC installation is done. The extra charges can vary heavily depending on the amount of material needed, including pipe, tape, and so on. In my case, it cost me 5000 INR, and I am super happy with it.\\n\\nThe build quality of the AC is excellent. The internal unit looks sleek and modern. The AC functions as advertised. It cools very nicely.\\n\\nOverall Value\\nThe overall value of the AC is just excellent. It is affordable and enables you to enjoy minimal electricity bills.\",\n",
      "  \"mylanguage\": \"hindi\"\n",
      "}\n",
      "\u001b[32;1m\u001b[1;3m[chain/start]\u001b[0m \u001b[1m[chain:RunnableSequence > chain:RunnableParallel<Summary,mylanguage> > chain:RunnableSequence] Entering Chain run with input:\n",
      "\u001b[0m{\n",
      "  \"English_Review\": \"If you are looking for a complete package, then look no further than Daikin.\\n\\nI purchased the AC 1.5 months ago, and until now I am impressed with what it has to offer. Installation went super smoothly. The installation guys came on the same day. The installation process started, and it was done in 3 hours max.\\n\\nAlso, for those people who are saying that they are charging money even when installation is free, you have no idea about how AC installation is done. The extra charges can vary heavily depending on the amount of material needed, including pipe, tape, and so on. In my case, it cost me 5000 INR, and I am super happy with it.\\n\\nThe build quality of the AC is excellent. The internal unit looks sleek and modern. The AC functions as advertised. It cools very nicely.\\n\\nOverall Value\\nThe overall value of the AC is just excellent. It is affordable and enables you to enjoy minimal electricity bills.\",\n",
      "  \"mylanguage\": \"hindi\"\n",
      "}\n",
      "\u001b[32;1m\u001b[1;3m[chain/start]\u001b[0m \u001b[1m[chain:RunnableSequence > chain:RunnableParallel<Summary,mylanguage> > chain:RunnableSequence > prompt:ChatPromptTemplate] Entering Prompt run with input:\n",
      "\u001b[0m{\n",
      "  \"English_Review\": \"If you are looking for a complete package, then look no further than Daikin.\\n\\nI purchased the AC 1.5 months ago, and until now I am impressed with what it has to offer. Installation went super smoothly. The installation guys came on the same day. The installation process started, and it was done in 3 hours max.\\n\\nAlso, for those people who are saying that they are charging money even when installation is free, you have no idea about how AC installation is done. The extra charges can vary heavily depending on the amount of material needed, including pipe, tape, and so on. In my case, it cost me 5000 INR, and I am super happy with it.\\n\\nThe build quality of the AC is excellent. The internal unit looks sleek and modern. The AC functions as advertised. It cools very nicely.\\n\\nOverall Value\\nThe overall value of the AC is just excellent. It is affordable and enables you to enjoy minimal electricity bills.\",\n",
      "  \"mylanguage\": \"hindi\"\n",
      "}\n",
      "\u001b[36;1m\u001b[1;3m[chain/end]\u001b[0m \u001b[1m[chain:RunnableSequence > chain:RunnableParallel<Summary,mylanguage> > chain:RunnableSequence > prompt:ChatPromptTemplate] [1ms] Exiting Prompt run with output:\n",
      "\u001b[0m[outputs]\n",
      "\u001b[32;1m\u001b[1;3m[llm/start]\u001b[0m \u001b[1m[chain:RunnableSequence > chain:RunnableParallel<Summary,mylanguage> > chain:RunnableSequence > llm:ChatOpenAI] Entering LLM run with input:\n",
      "\u001b[0m{\n",
      "  \"prompts\": [\n",
      "    \"Human: Can you summarize the following review in 1 sentence:\\n\\nIf you are looking for a complete package, then look no further than Daikin.\\n\\nI purchased the AC 1.5 months ago, and until now I am impressed with what it has to offer. Installation went super smoothly. The installation guys came on the same day. The installation process started, and it was done in 3 hours max.\\n\\nAlso, for those people who are saying that they are charging money even when installation is free, you have no idea about how AC installation is done. The extra charges can vary heavily depending on the amount of material needed, including pipe, tape, and so on. In my case, it cost me 5000 INR, and I am super happy with it.\\n\\nThe build quality of the AC is excellent. The internal unit looks sleek and modern. The AC functions as advertised. It cools very nicely.\\n\\nOverall Value\\nThe overall value of the AC is just excellent. It is affordable and enables you to enjoy minimal electricity bills.\"\n",
      "  ]\n",
      "}\n",
      "\u001b[32;1m\u001b[1;3m[chain/start]\u001b[0m \u001b[1m[chain:RunnableSequence > chain:RunnableParallel<Summary,mylanguage> > chain:RunnableLambda] Entering Chain run with input:\n",
      "\u001b[0m{\n",
      "  \"English_Review\": \"If you are looking for a complete package, then look no further than Daikin.\\n\\nI purchased the AC 1.5 months ago, and until now I am impressed with what it has to offer. Installation went super smoothly. The installation guys came on the same day. The installation process started, and it was done in 3 hours max.\\n\\nAlso, for those people who are saying that they are charging money even when installation is free, you have no idea about how AC installation is done. The extra charges can vary heavily depending on the amount of material needed, including pipe, tape, and so on. In my case, it cost me 5000 INR, and I am super happy with it.\\n\\nThe build quality of the AC is excellent. The internal unit looks sleek and modern. The AC functions as advertised. It cools very nicely.\\n\\nOverall Value\\nThe overall value of the AC is just excellent. It is affordable and enables you to enjoy minimal electricity bills.\",\n",
      "  \"mylanguage\": \"hindi\"\n",
      "}\n",
      "\u001b[36;1m\u001b[1;3m[chain/end]\u001b[0m \u001b[1m[chain:RunnableSequence > chain:RunnableParallel<Summary,mylanguage> > chain:RunnableLambda] [1ms] Exiting Chain run with output:\n",
      "\u001b[0m{\n",
      "  \"output\": \"hindi\"\n",
      "}\n",
      "\u001b[36;1m\u001b[1;3m[llm/end]\u001b[0m \u001b[1m[chain:RunnableSequence > chain:RunnableParallel<Summary,mylanguage> > chain:RunnableSequence > llm:ChatOpenAI] [623ms] Exiting LLM run with output:\n",
      "\u001b[0m{\n",
      "  \"generations\": [\n",
      "    [\n",
      "      {\n",
      "        \"text\": \"\\\"Daikin offers an excellent, affordable AC with impressive performance, smooth installation, and sleek build quality.\\\"\",\n",
      "        \"generation_info\": {\n",
      "          \"finish_reason\": \"stop\",\n",
      "          \"logprobs\": null\n",
      "        },\n",
      "        \"type\": \"ChatGeneration\",\n",
      "        \"message\": {\n",
      "          \"lc\": 1,\n",
      "          \"type\": \"constructor\",\n",
      "          \"id\": [\n",
      "            \"langchain\",\n",
      "            \"schema\",\n",
      "            \"messages\",\n",
      "            \"AIMessage\"\n",
      "          ],\n",
      "          \"kwargs\": {\n",
      "            \"content\": \"\\\"Daikin offers an excellent, affordable AC with impressive performance, smooth installation, and sleek build quality.\\\"\",\n",
      "            \"additional_kwargs\": {\n",
      "              \"refusal\": null\n",
      "            },\n",
      "            \"response_metadata\": {\n",
      "              \"token_usage\": {\n",
      "                \"completion_tokens\": 21,\n",
      "                \"prompt_tokens\": 215,\n",
      "                \"total_tokens\": 236,\n",
      "                \"completion_tokens_details\": {\n",
      "                  \"reasoning_tokens\": 0\n",
      "                }\n",
      "              },\n",
      "              \"model_name\": \"gpt-4o-2024-05-13\",\n",
      "              \"system_fingerprint\": \"fp_c17d3befe7\",\n",
      "              \"finish_reason\": \"stop\",\n",
      "              \"logprobs\": null\n",
      "            },\n",
      "            \"type\": \"ai\",\n",
      "            \"id\": \"run-f420ffc8-40a0-4766-8d5d-c8e3993f9181-0\",\n",
      "            \"usage_metadata\": {\n",
      "              \"input_tokens\": 215,\n",
      "              \"output_tokens\": 21,\n",
      "              \"total_tokens\": 236\n",
      "            },\n",
      "            \"tool_calls\": [],\n",
      "            \"invalid_tool_calls\": []\n",
      "          }\n",
      "        }\n",
      "      }\n",
      "    ]\n",
      "  ],\n",
      "  \"llm_output\": {\n",
      "    \"token_usage\": {\n",
      "      \"completion_tokens\": 21,\n",
      "      \"prompt_tokens\": 215,\n",
      "      \"total_tokens\": 236,\n",
      "      \"completion_tokens_details\": {\n",
      "        \"reasoning_tokens\": 0\n",
      "      }\n",
      "    },\n",
      "    \"model_name\": \"gpt-4o-2024-05-13\",\n",
      "    \"system_fingerprint\": \"fp_c17d3befe7\"\n",
      "  },\n",
      "  \"run\": null\n",
      "}\n",
      "\u001b[32;1m\u001b[1;3m[chain/start]\u001b[0m \u001b[1m[chain:RunnableSequence > chain:RunnableParallel<Summary,mylanguage> > chain:RunnableSequence > parser:StrOutputParser] Entering Parser run with input:\n",
      "\u001b[0m[inputs]\n",
      "\u001b[36;1m\u001b[1;3m[chain/end]\u001b[0m \u001b[1m[chain:RunnableSequence > chain:RunnableParallel<Summary,mylanguage> > chain:RunnableSequence > parser:StrOutputParser] [1ms] Exiting Parser run with output:\n",
      "\u001b[0m{\n",
      "  \"output\": \"\\\"Daikin offers an excellent, affordable AC with impressive performance, smooth installation, and sleek build quality.\\\"\"\n",
      "}\n",
      "\u001b[36;1m\u001b[1;3m[chain/end]\u001b[0m \u001b[1m[chain:RunnableSequence > chain:RunnableParallel<Summary,mylanguage> > chain:RunnableSequence] [633ms] Exiting Chain run with output:\n",
      "\u001b[0m{\n",
      "  \"output\": \"\\\"Daikin offers an excellent, affordable AC with impressive performance, smooth installation, and sleek build quality.\\\"\"\n",
      "}\n",
      "\u001b[36;1m\u001b[1;3m[chain/end]\u001b[0m \u001b[1m[chain:RunnableSequence > chain:RunnableParallel<Summary,mylanguage>] [637ms] Exiting Chain run with output:\n",
      "\u001b[0m{\n",
      "  \"Summary\": \"\\\"Daikin offers an excellent, affordable AC with impressive performance, smooth installation, and sleek build quality.\\\"\",\n",
      "  \"mylanguage\": \"hindi\"\n",
      "}\n",
      "\u001b[32;1m\u001b[1;3m[chain/start]\u001b[0m \u001b[1m[chain:RunnableSequence > chain:RunnableParallel<Translated_Review,mylanguage>] Entering Chain run with input:\n",
      "\u001b[0m{\n",
      "  \"Summary\": \"\\\"Daikin offers an excellent, affordable AC with impressive performance, smooth installation, and sleek build quality.\\\"\",\n",
      "  \"mylanguage\": \"hindi\"\n",
      "}\n",
      "\u001b[32;1m\u001b[1;3m[chain/start]\u001b[0m \u001b[1m[chain:RunnableSequence > chain:RunnableParallel<Translated_Review,mylanguage> > chain:RunnableSequence] Entering Chain run with input:\n",
      "\u001b[0m{\n",
      "  \"Summary\": \"\\\"Daikin offers an excellent, affordable AC with impressive performance, smooth installation, and sleek build quality.\\\"\",\n",
      "  \"mylanguage\": \"hindi\"\n",
      "}\n",
      "\u001b[32;1m\u001b[1;3m[chain/start]\u001b[0m \u001b[1m[chain:RunnableSequence > chain:RunnableParallel<Translated_Review,mylanguage> > chain:RunnableLambda] Entering Chain run with input:\n",
      "\u001b[0m{\n",
      "  \"Summary\": \"\\\"Daikin offers an excellent, affordable AC with impressive performance, smooth installation, and sleek build quality.\\\"\",\n",
      "  \"mylanguage\": \"hindi\"\n",
      "}\n",
      "\u001b[36;1m\u001b[1;3m[chain/end]\u001b[0m \u001b[1m[chain:RunnableSequence > chain:RunnableParallel<Translated_Review,mylanguage> > chain:RunnableLambda] [2ms] Exiting Chain run with output:\n",
      "\u001b[0m{\n",
      "  \"output\": \"hindi\"\n",
      "}\n",
      "\u001b[32;1m\u001b[1;3m[chain/start]\u001b[0m \u001b[1m[chain:RunnableSequence > chain:RunnableParallel<Translated_Review,mylanguage> > chain:RunnableSequence > prompt:ChatPromptTemplate] Entering Prompt run with input:\n",
      "\u001b[0m{\n",
      "  \"Summary\": \"\\\"Daikin offers an excellent, affordable AC with impressive performance, smooth installation, and sleek build quality.\\\"\",\n",
      "  \"mylanguage\": \"hindi\"\n",
      "}\n",
      "\u001b[36;1m\u001b[1;3m[chain/end]\u001b[0m \u001b[1m[chain:RunnableSequence > chain:RunnableParallel<Translated_Review,mylanguage> > chain:RunnableSequence > prompt:ChatPromptTemplate] [1ms] Exiting Prompt run with output:\n",
      "\u001b[0m[outputs]\n",
      "\u001b[32;1m\u001b[1;3m[llm/start]\u001b[0m \u001b[1m[chain:RunnableSequence > chain:RunnableParallel<Translated_Review,mylanguage> > chain:RunnableSequence > llm:ChatOpenAI] Entering LLM run with input:\n",
      "\u001b[0m{\n",
      "  \"prompts\": [\n",
      "    \"Human: What language is the following review:\\n\\n\\\"Daikin offers an excellent, affordable AC with impressive performance, smooth installation, and sleek build quality.\\\"\"\n",
      "  ]\n",
      "}\n",
      "\u001b[36;1m\u001b[1;3m[llm/end]\u001b[0m \u001b[1m[chain:RunnableSequence > chain:RunnableParallel<Translated_Review,mylanguage> > chain:RunnableSequence > llm:ChatOpenAI] [478ms] Exiting LLM run with output:\n",
      "\u001b[0m{\n",
      "  \"generations\": [\n",
      "    [\n",
      "      {\n",
      "        \"text\": \"The review is in English.\",\n",
      "        \"generation_info\": {\n",
      "          \"finish_reason\": \"stop\",\n",
      "          \"logprobs\": null\n",
      "        },\n",
      "        \"type\": \"ChatGeneration\",\n",
      "        \"message\": {\n",
      "          \"lc\": 1,\n",
      "          \"type\": \"constructor\",\n",
      "          \"id\": [\n",
      "            \"langchain\",\n",
      "            \"schema\",\n",
      "            \"messages\",\n",
      "            \"AIMessage\"\n",
      "          ],\n",
      "          \"kwargs\": {\n",
      "            \"content\": \"The review is in English.\",\n",
      "            \"additional_kwargs\": {\n",
      "              \"refusal\": null\n",
      "            },\n",
      "            \"response_metadata\": {\n",
      "              \"token_usage\": {\n",
      "                \"completion_tokens\": 6,\n",
      "                \"prompt_tokens\": 35,\n",
      "                \"total_tokens\": 41,\n",
      "                \"completion_tokens_details\": {\n",
      "                  \"reasoning_tokens\": 0\n",
      "                }\n",
      "              },\n",
      "              \"model_name\": \"gpt-4o-2024-05-13\",\n",
      "              \"system_fingerprint\": \"fp_5796ac6771\",\n",
      "              \"finish_reason\": \"stop\",\n",
      "              \"logprobs\": null\n",
      "            },\n",
      "            \"type\": \"ai\",\n",
      "            \"id\": \"run-60747b1e-fb55-4903-991f-bcbc485cc50e-0\",\n",
      "            \"usage_metadata\": {\n",
      "              \"input_tokens\": 35,\n",
      "              \"output_tokens\": 6,\n",
      "              \"total_tokens\": 41\n",
      "            },\n",
      "            \"tool_calls\": [],\n",
      "            \"invalid_tool_calls\": []\n",
      "          }\n",
      "        }\n",
      "      }\n",
      "    ]\n",
      "  ],\n",
      "  \"llm_output\": {\n",
      "    \"token_usage\": {\n",
      "      \"completion_tokens\": 6,\n",
      "      \"prompt_tokens\": 35,\n",
      "      \"total_tokens\": 41,\n",
      "      \"completion_tokens_details\": {\n",
      "        \"reasoning_tokens\": 0\n",
      "      }\n",
      "    },\n",
      "    \"model_name\": \"gpt-4o-2024-05-13\",\n",
      "    \"system_fingerprint\": \"fp_5796ac6771\"\n",
      "  },\n",
      "  \"run\": null\n",
      "}\n",
      "\u001b[32;1m\u001b[1;3m[chain/start]\u001b[0m \u001b[1m[chain:RunnableSequence > chain:RunnableParallel<Translated_Review,mylanguage> > chain:RunnableSequence > parser:StrOutputParser] Entering Parser run with input:\n",
      "\u001b[0m[inputs]\n",
      "\u001b[36;1m\u001b[1;3m[chain/end]\u001b[0m \u001b[1m[chain:RunnableSequence > chain:RunnableParallel<Translated_Review,mylanguage> > chain:RunnableSequence > parser:StrOutputParser] [1ms] Exiting Parser run with output:\n",
      "\u001b[0m{\n",
      "  \"output\": \"The review is in English.\"\n",
      "}\n",
      "\u001b[36;1m\u001b[1;3m[chain/end]\u001b[0m \u001b[1m[chain:RunnableSequence > chain:RunnableParallel<Translated_Review,mylanguage> > chain:RunnableSequence] [490ms] Exiting Chain run with output:\n",
      "\u001b[0m{\n",
      "  \"output\": \"The review is in English.\"\n",
      "}\n",
      "\u001b[36;1m\u001b[1;3m[chain/end]\u001b[0m \u001b[1m[chain:RunnableSequence > chain:RunnableParallel<Translated_Review,mylanguage>] [495ms] Exiting Chain run with output:\n",
      "\u001b[0m{\n",
      "  \"Translated_Review\": \"The review is in English.\",\n",
      "  \"mylanguage\": \"hindi\"\n",
      "}\n",
      "\u001b[32;1m\u001b[1;3m[chain/start]\u001b[0m \u001b[1m[chain:RunnableSequence > chain:RunnableParallel<Final_review>] Entering Chain run with input:\n",
      "\u001b[0m{\n",
      "  \"Translated_Review\": \"The review is in English.\",\n",
      "  \"mylanguage\": \"hindi\"\n",
      "}\n",
      "\u001b[32;1m\u001b[1;3m[chain/start]\u001b[0m \u001b[1m[chain:RunnableSequence > chain:RunnableParallel<Final_review> > chain:RunnableSequence] Entering Chain run with input:\n",
      "\u001b[0m{\n",
      "  \"Translated_Review\": \"The review is in English.\",\n",
      "  \"mylanguage\": \"hindi\"\n",
      "}\n",
      "\u001b[32;1m\u001b[1;3m[chain/start]\u001b[0m \u001b[1m[chain:RunnableSequence > chain:RunnableParallel<Final_review> > chain:RunnableSequence > prompt:ChatPromptTemplate] Entering Prompt run with input:\n",
      "\u001b[0m{\n",
      "  \"Translated_Review\": \"The review is in English.\",\n",
      "  \"mylanguage\": \"hindi\"\n",
      "}\n",
      "\u001b[36;1m\u001b[1;3m[chain/end]\u001b[0m \u001b[1m[chain:RunnableSequence > chain:RunnableParallel<Final_review> > chain:RunnableSequence > prompt:ChatPromptTemplate] [2ms] Exiting Prompt run with output:\n",
      "\u001b[0m[outputs]\n",
      "\u001b[32;1m\u001b[1;3m[llm/start]\u001b[0m \u001b[1m[chain:RunnableSequence > chain:RunnableParallel<Final_review> > chain:RunnableSequence > llm:ChatOpenAI] Entering LLM run with input:\n",
      "\u001b[0m{\n",
      "  \"prompts\": [\n",
      "    \"Human: Write a follow up response to the following summary in the specified language:\\n\\nSummary: The review is in English.\\n\\nLanguage: hindi\"\n",
      "  ]\n",
      "}\n",
      "\u001b[36;1m\u001b[1;3m[llm/end]\u001b[0m \u001b[1m[chain:RunnableSequence > chain:RunnableParallel<Final_review> > chain:RunnableSequence > llm:ChatOpenAI] [1.11s] Exiting LLM run with output:\n",
      "\u001b[0m{\n",
      "  \"generations\": [\n",
      "    [\n",
      "      {\n",
      "        \"text\": \"समीक्षा अंग्रेजी में है लेकिन आपकी प्रतिक्रिया में हिंदी का उपयोग करने का अनुरोध किया गया है। कृपया इस समीक्षा के किसी विशेष बिंदु पर ध्यान केंद्रित करें या कोई खास प्रश्न उठाएँ। हमें आपसे और जानने में खुशी होगी। धन्यवाद!\",\n",
      "        \"generation_info\": {\n",
      "          \"finish_reason\": \"stop\",\n",
      "          \"logprobs\": null\n",
      "        },\n",
      "        \"type\": \"ChatGeneration\",\n",
      "        \"message\": {\n",
      "          \"lc\": 1,\n",
      "          \"type\": \"constructor\",\n",
      "          \"id\": [\n",
      "            \"langchain\",\n",
      "            \"schema\",\n",
      "            \"messages\",\n",
      "            \"AIMessage\"\n",
      "          ],\n",
      "          \"kwargs\": {\n",
      "            \"content\": \"समीक्षा अंग्रेजी में है लेकिन आपकी प्रतिक्रिया में हिंदी का उपयोग करने का अनुरोध किया गया है। कृपया इस समीक्षा के किसी विशेष बिंदु पर ध्यान केंद्रित करें या कोई खास प्रश्न उठाएँ। हमें आपसे और जानने में खुशी होगी। धन्यवाद!\",\n",
      "            \"additional_kwargs\": {\n",
      "              \"refusal\": null\n",
      "            },\n",
      "            \"response_metadata\": {\n",
      "              \"token_usage\": {\n",
      "                \"completion_tokens\": 57,\n",
      "                \"prompt_tokens\": 32,\n",
      "                \"total_tokens\": 89,\n",
      "                \"completion_tokens_details\": {\n",
      "                  \"reasoning_tokens\": 0\n",
      "                }\n",
      "              },\n",
      "              \"model_name\": \"gpt-4o-2024-05-13\",\n",
      "              \"system_fingerprint\": \"fp_3537616b13\",\n",
      "              \"finish_reason\": \"stop\",\n",
      "              \"logprobs\": null\n",
      "            },\n",
      "            \"type\": \"ai\",\n",
      "            \"id\": \"run-49fe1775-5b02-4366-8865-f4c9426786b6-0\",\n",
      "            \"usage_metadata\": {\n",
      "              \"input_tokens\": 32,\n",
      "              \"output_tokens\": 57,\n",
      "              \"total_tokens\": 89\n",
      "            },\n",
      "            \"tool_calls\": [],\n",
      "            \"invalid_tool_calls\": []\n",
      "          }\n",
      "        }\n",
      "      }\n",
      "    ]\n",
      "  ],\n",
      "  \"llm_output\": {\n",
      "    \"token_usage\": {\n",
      "      \"completion_tokens\": 57,\n",
      "      \"prompt_tokens\": 32,\n",
      "      \"total_tokens\": 89,\n",
      "      \"completion_tokens_details\": {\n",
      "        \"reasoning_tokens\": 0\n",
      "      }\n",
      "    },\n",
      "    \"model_name\": \"gpt-4o-2024-05-13\",\n",
      "    \"system_fingerprint\": \"fp_3537616b13\"\n",
      "  },\n",
      "  \"run\": null\n",
      "}\n",
      "\u001b[32;1m\u001b[1;3m[chain/start]\u001b[0m \u001b[1m[chain:RunnableSequence > chain:RunnableParallel<Final_review> > chain:RunnableSequence > parser:StrOutputParser] Entering Parser run with input:\n",
      "\u001b[0m[inputs]\n",
      "\u001b[36;1m\u001b[1;3m[chain/end]\u001b[0m \u001b[1m[chain:RunnableSequence > chain:RunnableParallel<Final_review> > chain:RunnableSequence > parser:StrOutputParser] [1ms] Exiting Parser run with output:\n",
      "\u001b[0m{\n",
      "  \"output\": \"समीक्षा अंग्रेजी में है लेकिन आपकी प्रतिक्रिया में हिंदी का उपयोग करने का अनुरोध किया गया है। कृपया इस समीक्षा के किसी विशेष बिंदु पर ध्यान केंद्रित करें या कोई खास प्रश्न उठाएँ। हमें आपसे और जानने में खुशी होगी। धन्यवाद!\"\n",
      "}\n",
      "\u001b[36;1m\u001b[1;3m[chain/end]\u001b[0m \u001b[1m[chain:RunnableSequence > chain:RunnableParallel<Final_review> > chain:RunnableSequence] [1.13s] Exiting Chain run with output:\n",
      "\u001b[0m{\n",
      "  \"output\": \"समीक्षा अंग्रेजी में है लेकिन आपकी प्रतिक्रिया में हिंदी का उपयोग करने का अनुरोध किया गया है। कृपया इस समीक्षा के किसी विशेष बिंदु पर ध्यान केंद्रित करें या कोई खास प्रश्न उठाएँ। हमें आपसे और जानने में खुशी होगी। धन्यवाद!\"\n",
      "}\n",
      "\u001b[36;1m\u001b[1;3m[chain/end]\u001b[0m \u001b[1m[chain:RunnableSequence > chain:RunnableParallel<Final_review>] [1.13s] Exiting Chain run with output:\n",
      "\u001b[0m{\n",
      "  \"Final_review\": \"समीक्षा अंग्रेजी में है लेकिन आपकी प्रतिक्रिया में हिंदी का उपयोग करने का अनुरोध किया गया है। कृपया इस समीक्षा के किसी विशेष बिंदु पर ध्यान केंद्रित करें या कोई खास प्रश्न उठाएँ। हमें आपसे और जानने में खुशी होगी। धन्यवाद!\"\n",
      "}\n",
      "\u001b[36;1m\u001b[1;3m[chain/end]\u001b[0m \u001b[1m[chain:RunnableSequence] [4.91s] Exiting Chain run with output:\n",
      "\u001b[0m{\n",
      "  \"Final_review\": \"समीक्षा अंग्रेजी में है लेकिन आपकी प्रतिक्रिया में हिंदी का उपयोग करने का अनुरोध किया गया है। कृपया इस समीक्षा के किसी विशेष बिंदु पर ध्यान केंद्रित करें या कोई खास प्रश्न उठाएँ। हमें आपसे और जानने में खुशी होगी। धन्यवाद!\"\n",
      "}\n"
     ]
    }
   ],
   "source": [
    "result = seq.invoke(input_data, config={'callbacks': [console_handler]})"
   ]
  },
  {
   "cell_type": "code",
   "execution_count": 28,
   "id": "451fd989",
   "metadata": {},
   "outputs": [
    {
     "data": {
      "text/markdown": [
       "समीक्षा अंग्रेजी में है लेकिन आपकी प्रतिक्रिया में हिंदी का उपयोग करने का अनुरोध किया गया है। कृपया इस समीक्षा के किसी विशेष बिंदु पर ध्यान केंद्रित करें या कोई खास प्रश्न उठाएँ। हमें आपसे और जानने में खुशी होगी। धन्यवाद!"
      ],
      "text/plain": [
       "<IPython.core.display.Markdown object>"
      ]
     },
     "execution_count": 28,
     "metadata": {},
     "output_type": "execute_result"
    }
   ],
   "source": [
    "Markdown(result['Final_review'])"
   ]
  },
  {
   "cell_type": "markdown",
   "id": "3041ea4c",
   "metadata": {},
   "source": [
    "## Router Chain"
   ]
  },
  {
   "cell_type": "code",
   "execution_count": 29,
   "id": "6445be9f",
   "metadata": {},
   "outputs": [],
   "source": [
    "from langchain_openai import ChatOpenAI\n",
    "from langchain_core.output_parsers import StrOutputParser\n",
    "from langchain_core.prompts import PromptTemplate"
   ]
  },
  {
   "cell_type": "code",
   "execution_count": 30,
   "id": "8210dbf2",
   "metadata": {},
   "outputs": [],
   "source": [
    "llm = ChatOpenAI(temperature=0, model=llm_model)"
   ]
  },
  {
   "cell_type": "code",
   "execution_count": 31,
   "id": "ce05fa3c",
   "metadata": {},
   "outputs": [],
   "source": [
    "chain = (\n",
    "    PromptTemplate.from_template(\n",
    "        \"\"\"\n",
    "        Given the user question below, classify it as either being about `physics`, `maths`, `history`, `Computer science`.\n",
    "        \n",
    "        Do not respond with more than one word.\n",
    "\n",
    "        <question>\n",
    "        {input}\n",
    "        </question>\n",
    "\n",
    "        Classification:\"\"\"\n",
    "    )\n",
    "    | llm\n",
    "    | StrOutputParser()\n",
    ")"
   ]
  },
  {
   "cell_type": "code",
   "execution_count": 32,
   "id": "e49a866d",
   "metadata": {},
   "outputs": [
    {
     "data": {
      "text/plain": [
       "'maths'"
      ]
     },
     "execution_count": 32,
     "metadata": {},
     "output_type": "execute_result"
    }
   ],
   "source": [
    "chain.invoke({'input' : \"What is Algebra\"})"
   ]
  },
  {
   "cell_type": "markdown",
   "id": "a4cebe9b",
   "metadata": {},
   "source": [
    "#### Creating sub chains"
   ]
  },
  {
   "cell_type": "code",
   "execution_count": 33,
   "id": "0bec7c74",
   "metadata": {},
   "outputs": [],
   "source": [
    "physics_template = \"\"\"You are a very smart physics professor. \\\n",
    "You are great at answering questions about physics in a concise\\\n",
    "and easy to understand manner. \\\n",
    "When you don't know the answer to a question you admit\\\n",
    "that you don't know.\n",
    "\n",
    "Here is a question:\n",
    "{input}\"\"\"\n",
    "\n",
    "\n",
    "math_template = \"\"\"You are a very good mathematician. \\\n",
    "You are great at answering math questions. \\\n",
    "You are so good because you are able to break down \\\n",
    "hard problems into their component parts, \n",
    "answer the component parts, and then put them together\\\n",
    "to answer the broader question.\n",
    "\n",
    "Here is a question:\n",
    "{input}\"\"\"\n",
    "\n",
    "history_template = \"\"\"You are a very good historian. \\\n",
    "You have an excellent knowledge of and understanding of people,\\\n",
    "events and contexts from a range of historical periods. \\\n",
    "You have the ability to think, reflect, debate, discuss and \\\n",
    "evaluate the past. You have a respect for historical evidence\\\n",
    "and the ability to make use of it to support your explanations \\\n",
    "and judgements.\n",
    "\n",
    "Here is a question:\n",
    "{input}\"\"\"\n",
    "\n",
    "\n",
    "computerscience_template = \"\"\" You are a successful computer scientist.\\\n",
    "You have a passion for creativity, collaboration,\\\n",
    "forward-thinking, confidence, strong problem-solving capabilities,\\\n",
    "understanding of theories and algorithms, and excellent communication \\\n",
    "skills. You are great at answering coding questions. \\\n",
    "You are so good because you know how to solve a problem by \\\n",
    "describing the solution in imperative steps \\\n",
    "that a machine can easily interpret and you know how to \\\n",
    "choose a solution that has a good balance between \\\n",
    "time complexity and space complexity. \n",
    "\n",
    "Here is a question:\n",
    "{input}\"\"\"\n",
    "\n",
    "general_template = \"\"\"Respond to the following question:\n",
    "                   Here is a question:\n",
    "                   {input}\n",
    "                   \"\"\""
   ]
  },
  {
   "cell_type": "code",
   "execution_count": 34,
   "id": "ff33f54a",
   "metadata": {},
   "outputs": [],
   "source": [
    "# defining prompt templates\n",
    "physics_chain = PromptTemplate.from_template(physics_template) | llm | StrOutputParser()\n",
    "maths_chain = PromptTemplate.from_template(math_template) | llm | StrOutputParser()\n",
    "history_chain = PromptTemplate.from_template(history_template) | llm | StrOutputParser()\n",
    "cs_chain = PromptTemplate.from_template(computerscience_template) | llm | StrOutputParser()\n",
    "general_chain = PromptTemplate.from_template(general_template) | llm | StrOutputParser()"
   ]
  },
  {
   "cell_type": "markdown",
   "id": "06fbf599",
   "metadata": {},
   "source": [
    "### Using a custom function (Recommended)"
   ]
  },
  {
   "cell_type": "code",
   "execution_count": 35,
   "id": "e7948fa7",
   "metadata": {},
   "outputs": [],
   "source": [
    "def route(info):\n",
    "    print(info)\n",
    "    if \"physics\" in info[\"topic\"].lower():\n",
    "        return physics_chain\n",
    "    elif \"maths\" in info[\"topic\"].lower():\n",
    "        return maths_chain\n",
    "    elif \"history\" in info[\"topic\"].lower():\n",
    "        return history_chain\n",
    "    elif \"computer science\" in info[\"topic\"].lower():\n",
    "        return cs_chain\n",
    "    else:\n",
    "        return general_chain"
   ]
  },
  {
   "cell_type": "code",
   "execution_count": 36,
   "id": "170c5e81",
   "metadata": {},
   "outputs": [],
   "source": [
    "from langchain_core.runnables import RunnableLambda\n",
    "\n",
    "full_chain = {\"topic\": chain, \"input\": lambda x: x[\"input\"]} | RunnableLambda(\n",
    "    route\n",
    ")"
   ]
  },
  {
   "cell_type": "code",
   "execution_count": 37,
   "id": "9c7d43f2",
   "metadata": {},
   "outputs": [
    {
     "name": "stdout",
     "output_type": "stream",
     "text": [
      "{'topic': 'physics', 'input': 'What is difference between speed and acceleration'}\n"
     ]
    },
    {
     "data": {
      "text/markdown": [
       "Sure, I'd be happy to explain the difference between speed and acceleration!\n",
       "\n",
       "**Speed** is a measure of how fast an object is moving. It tells you the distance an object travels over a certain period of time. Speed is a scalar quantity, which means it only has magnitude and no direction. For example, if a car is traveling at 60 miles per hour, that number tells you how fast the car is going, but not the direction in which it is moving.\n",
       "\n",
       "**Acceleration**, on the other hand, is a measure of how quickly an object's speed is changing. It tells you the rate at which the velocity of an object is changing over time. Acceleration is a vector quantity, which means it has both magnitude and direction. For example, if a car is increasing its speed by 10 miles per hour every second, it has an acceleration of 10 miles per hour per second in the direction of its motion.\n",
       "\n",
       "In summary:\n",
       "- **Speed**: How fast an object is moving (scalar).\n",
       "- **Acceleration**: How quickly the speed of an object is changing (vector).\n",
       "\n",
       "I hope that helps! If you have any more questions, feel free to ask."
      ],
      "text/plain": [
       "<IPython.core.display.Markdown object>"
      ]
     },
     "execution_count": 37,
     "metadata": {},
     "output_type": "execute_result"
    }
   ],
   "source": [
    "Markdown(full_chain.invoke({\"input\": \"What is difference between speed and acceleration\"}))"
   ]
  },
  {
   "cell_type": "markdown",
   "id": "a1244616",
   "metadata": {},
   "source": [
    "### Using a RunnableBranch"
   ]
  },
  {
   "cell_type": "code",
   "execution_count": 38,
   "id": "f3cbb26b",
   "metadata": {},
   "outputs": [],
   "source": [
    "from langchain_core.runnables import RunnableBranch\n",
    "\n",
    "branch = RunnableBranch(\n",
    "    (lambda x: \"physics\" in x[\"topic\"].lower(), physics_chain),\n",
    "    (lambda x: \"maths\" in x[\"topic\"].lower(), maths_chain),\n",
    "    (lambda x: \"history\" in x[\"topic\"].lower(), history_chain),\n",
    "    (lambda x: \"computer science\" in x[\"topic\"].lower(), cs_chain),\n",
    "    general_chain,\n",
    ")\n",
    "full_chain = {\"topic\": chain, \"input\": lambda x: x[\"input\"]} | branch"
   ]
  },
  {
   "cell_type": "code",
   "execution_count": 39,
   "id": "3114892a",
   "metadata": {},
   "outputs": [
    {
     "data": {
      "text/markdown": [
       "Lord Sri Krishna is a central figure in Hinduism, revered as the eighth avatar (incarnation) of the god Vishnu. He is a multifaceted deity, embodying various roles and attributes, and his life and teachings have had a profound impact on Indian culture, philosophy, and religion.\n",
       "\n",
       "### Historical and Mythological Context\n",
       "1. **Birth and Early Life**: According to Hindu tradition, Krishna was born in the Yadava clan to Devaki and Vasudeva in the city of Mathura. His birth is celebrated as Janmashtami. To protect him from the tyrannical king Kamsa, who was prophesied to be killed by Devaki's eighth son, Krishna was secretly transported to Gokul, where he was raised by foster parents Nanda and Yashoda.\n",
       "\n",
       "2. **Childhood and Youth**: Krishna's childhood is filled with miraculous events and playful exploits, often depicted in texts like the Bhagavata Purana. He is known for his mischievous behavior, such as stealing butter and playing pranks on the gopis (milkmaids). These stories highlight his divine nature and his role as a protector of the innocent.\n",
       "\n",
       "3. **Role in the Mahabharata**: Krishna plays a crucial role in the Indian epic, the Mahabharata. He serves as a charioteer and advisor to the Pandava prince Arjuna. The Bhagavad Gita, a 700-verse Hindu scripture that is part of the Mahabharata, is a conversation between Krishna and Arjuna on the battlefield of Kurukshetra. In this dialogue, Krishna imparts spiritual wisdom and guidance, addressing complex issues of duty, righteousness, and the nature of the self.\n",
       "\n",
       "4. **Philosophical Teachings**: Krishna's teachings in the Bhagavad Gita cover various paths to spiritual realization, including Karma Yoga (the path of selfless action), Bhakti Yoga (the path of devotion), and Jnana Yoga (the path of knowledge). His discourse emphasizes the importance of performing one's duty without attachment to the results and surrendering to the divine will.\n",
       "\n",
       "5. **Later Life and Legacy**: After the Mahabharata war, Krishna returned to his kingdom in Dwaraka. His later life is marked by his role as a king and a diplomat. According to tradition, Krishna eventually left his mortal body, an event known as \"Krishna's departure,\" which marks the beginning of the Kali Yuga, the current age in Hindu cosmology.\n",
       "\n",
       "### Cultural and Religious Significance\n",
       "- **Devotional Worship**: Krishna is worshipped in various forms across India and the world. He is often depicted as a divine lover, a playful child, and a wise teacher. Temples dedicated to Krishna, such as the famous Jagannath Temple in Puri and the ISKCON (International Society for Krishna Consciousness) movement, attract millions of devotees.\n",
       "\n",
       "- **Festivals**: Major festivals celebrating Krishna include Janmashtami (his birth), Holi (the festival of colors, associated with his playful nature), and Rasa Lila (celebrating his divine love with the gopis).\n",
       "\n",
       "- **Literature and Arts**: Krishna's life and exploits have inspired a vast body of literature, music, dance, and art. His stories are recounted in texts like the Bhagavata Purana, the Harivamsa, and various regional literatures. Classical Indian dance forms like Bharatanatyam and Kathak often depict episodes from Krishna's life.\n",
       "\n",
       "In summary, Lord Sri Krishna is a complex and multifaceted deity whose life and teachings continue to influence Hindu thought, culture, and spirituality. His role as a divine guide, protector, and lover makes him one of the most beloved and revered figures in Hinduism."
      ],
      "text/plain": [
       "<IPython.core.display.Markdown object>"
      ]
     },
     "execution_count": 39,
     "metadata": {},
     "output_type": "execute_result"
    }
   ],
   "source": [
    "Markdown(full_chain.invoke({\"input\": \"Who is lord sri krishna?\"}))"
   ]
  }
 ],
 "metadata": {
  "kernelspec": {
   "display_name": "Python 3 (ipykernel)",
   "language": "python",
   "name": "python3"
  },
  "language_info": {
   "codemirror_mode": {
    "name": "ipython",
    "version": 3
   },
   "file_extension": ".py",
   "mimetype": "text/x-python",
   "name": "python",
   "nbconvert_exporter": "python",
   "pygments_lexer": "ipython3",
   "version": "3.10.4"
  }
 },
 "nbformat": 4,
 "nbformat_minor": 5
}
